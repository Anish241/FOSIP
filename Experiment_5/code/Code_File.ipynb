{
 "cells": [
  {
   "cell_type": "code",
   "execution_count": 1,
   "metadata": {},
   "outputs": [],
   "source": [
    "import numpy as np\n",
    "from scipy.fft import fft, ifft"
   ]
  },
  {
   "cell_type": "code",
   "execution_count": 2,
   "metadata": {},
   "outputs": [],
   "source": [
    "# Input signal\n",
    "x = [1, 2, 3, 4, 5, 6, 7, 8]\n"
   ]
  },
  {
   "cell_type": "code",
   "execution_count": 3,
   "metadata": {},
   "outputs": [],
   "source": [
    "# Filter taps\n",
    "h = [0.5, 0.5]"
   ]
  },
  {
   "cell_type": "code",
   "execution_count": 4,
   "metadata": {},
   "outputs": [],
   "source": [
    "# Overlap add\n",
    "def overlap_add(x, h, N, L):\n",
    "    y = []\n",
    "    for i in range(0, len(x), N - L):\n",
    "        x_blk = x[i:i + N]\n",
    "        x_pad = np.pad(x_blk, (0, N - len(x_blk)), mode='constant')\n",
    "        X = fft(x_pad)\n",
    "        h_pad = np.pad(h, (0, N - len(h)), mode='constant')\n",
    "        H = fft(h_pad)\n",
    "        Y = X * H\n",
    "        y_blk = np.real(ifft(Y))\n",
    "        y.extend(y_blk[:N - L])\n",
    "    return y"
   ]
  },
  {
   "cell_type": "code",
   "execution_count": 5,
   "metadata": {},
   "outputs": [
    {
     "name": "stdout",
     "output_type": "stream",
     "text": [
      "Overlap Add Output: [2.5, 1.5, 4.5, 3.5, 6.5, 5.5, 3.5, 7.5]\n"
     ]
    }
   ],
   "source": [
    "y_oa = overlap_add(x, h, 4, 2)\n",
    "print(\"Overlap Add Output:\", y_oa)"
   ]
  },
  {
   "cell_type": "code",
   "execution_count": 6,
   "metadata": {},
   "outputs": [],
   "source": [
    "def overlap_save(x, h, N, L):\n",
    "    x_blocks = [x[i:i + N - L] for i in range(0, len(x), N - L)]\n",
    "    y = []\n",
    "    for x_blk in x_blocks:\n",
    "        x_pad = np.pad(x_blk, (0, N - L - len(x_blk)), mode='constant')\n",
    "        X = fft(x_pad, N)\n",
    "        h_pad = np.pad(h, (0, N - len(h)), mode='constant')\n",
    "        H = fft(h_pad, N)\n",
    "        Y = X * H\n",
    "        y_blk = np.real(ifft(Y))\n",
    "        y.extend(y_blk[:N - L])\n",
    "    return y\n"
   ]
  },
  {
   "cell_type": "code",
   "execution_count": 7,
   "metadata": {},
   "outputs": [
    {
     "name": "stdout",
     "output_type": "stream",
     "text": [
      "Overlap Save Output: [0.5, 1.5, 1.5, 3.5, 2.5, 5.5, 3.5, 7.5]\n"
     ]
    }
   ],
   "source": [
    "y_os = overlap_save(x, h, 4, 2)\n",
    "print(\"Overlap Save Output:\", y_os)"
   ]
  }
 ],
 "metadata": {
  "kernelspec": {
   "display_name": "Python 3",
   "language": "python",
   "name": "python3"
  },
  "language_info": {
   "codemirror_mode": {
    "name": "ipython",
    "version": 3
   },
   "file_extension": ".py",
   "mimetype": "text/x-python",
   "name": "python",
   "nbconvert_exporter": "python",
   "pygments_lexer": "ipython3",
   "version": "3.11.2"
  }
 },
 "nbformat": 4,
 "nbformat_minor": 2
}
