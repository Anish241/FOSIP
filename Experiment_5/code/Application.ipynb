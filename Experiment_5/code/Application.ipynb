{
 "cells": [
  {
   "cell_type": "code",
   "execution_count": 1,
   "metadata": {},
   "outputs": [],
   "source": [
    "import numpy as np\n",
    "from scipy.signal import firwin, lfilter\n",
    "from scipy.fft import fft, ifft"
   ]
  },
  {
   "cell_type": "code",
   "execution_count": 2,
   "metadata": {},
   "outputs": [],
   "source": [
    "def overlap_add_convolve(x, h):\n",
    "    block_size = len(h)\n",
    "    num_blocks = len(x) // block_size\n",
    "    if len(x) % block_size != 0:\n",
    "        num_blocks += 1\n",
    "        x = np.pad(x, (0, block_size - len(x) % block_size))\n",
    "    H = fft(h, block_size)\n",
    "    y = np.zeros(len(x), dtype=np.complex128)\n",
    "    for i in range(num_blocks):\n",
    "        x_block = x[i * block_size: (i + 1) * block_size]\n",
    "        X = fft(x_block, block_size)\n",
    "        Y = X * H\n",
    "        y_block = ifft(Y)\n",
    "        y[i * block_size: (i + 1) * block_size] += y_block\n",
    "    return np.real(y)[:len(x)] \n"
   ]
  },
  {
   "cell_type": "code",
   "execution_count": null,
   "metadata": {},
   "outputs": [],
   "source": []
  }
 ],
 "metadata": {
  "kernelspec": {
   "display_name": "Python 3",
   "language": "python",
   "name": "python3"
  },
  "language_info": {
   "codemirror_mode": {
    "name": "ipython",
    "version": 3
   },
   "file_extension": ".py",
   "mimetype": "text/x-python",
   "name": "python",
   "nbconvert_exporter": "python",
   "pygments_lexer": "ipython3",
   "version": "3.11.2"
  }
 },
 "nbformat": 4,
 "nbformat_minor": 2
}
