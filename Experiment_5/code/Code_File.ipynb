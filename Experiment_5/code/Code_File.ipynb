{
 "cells": [
  {
   "cell_type": "code",
   "execution_count": 1,
   "metadata": {},
   "outputs": [],
   "source": [
    "import numpy as np"
   ]
  },
  {
   "cell_type": "code",
   "execution_count": 5,
   "metadata": {},
   "outputs": [],
   "source": [
    "def custom_fft(x):\n",
    "    return np.fft.fft(x)"
   ]
  },
  {
   "cell_type": "code",
   "execution_count": 6,
   "metadata": {},
   "outputs": [],
   "source": [
    "def custom_ifft(X):\n",
    "    return np.fft.ifft(X)\n"
   ]
  },
  {
   "cell_type": "code",
   "execution_count": 7,
   "metadata": {},
   "outputs": [],
   "source": [
    "def custom_overlap_add(signal, impulse_response, block_size):\n",
    "    signal_length = len(signal)\n",
    "    impulse_length = len(impulse_response)\n",
    "    impulse_padded = np.concatenate((impulse_response, np.zeros(block_size - impulse_length)))\n",
    "    H = custom_fft(impulse_padded)\n",
    "    output_signal = np.zeros(signal_length + impulse_length - 1)\n",
    "    for i in range(0, signal_length, block_size - impulse_length + 1):\n",
    "        chunk = signal[i:i + block_size - impulse_length + 1]\n",
    "        chunk = np.concatenate((chunk, np.zeros(impulse_length - 1)))\n",
    "        X = custom_fft(chunk)\n",
    "        Y = X * H\n",
    "        y = custom_ifft(Y)\n",
    "        output_signal[i:i + block_size - impulse_length + 1 + impulse_length - 1] += np.real(y)\n",
    "    return output_signal[:signal_length + impulse_length - 1]"
   ]
  },
  {
   "cell_type": "code",
   "execution_count": 8,
   "metadata": {},
   "outputs": [],
   "source": [
    "def custom_overlap_save(signal, impulse_response, block_size):\n",
    "    signal_length = len(signal)\n",
    "    impulse_length = len(impulse_response)\n",
    "    if block_size < signal_length + impulse_length - 1:\n",
    "        block_size = signal_length + impulse_length - 1\n",
    "    impulse_padded = np.concatenate((impulse_response, np.zeros(block_size - impulse_length)))\n",
    "    H = custom_fft(impulse_padded)\n",
    "    signal = np.concatenate((np.zeros(impulse_length - 1), signal))\n",
    "    output_signal = np.zeros(signal_length)\n",
    "    for i in range(0, signal_length, block_size - impulse_length + 1):\n",
    "        chunk = signal[i:i + block_size]\n",
    "        chunk_padded = np.concatenate((chunk, np.zeros(block_size - len(chunk))))\n",
    "        X = custom_fft(chunk_padded)\n",
    "        Y = X * H\n",
    "        y = custom_ifft(Y)\n",
    "        output_signal[i:i + block_size - impulse_length + 1] += np.real(y[impulse_length - 1:impulse_length + block_size - impulse_length])\n",
    "    return output_signal[:signal_length + impulse_length - 1]"
   ]
  },
  {
   "cell_type": "code",
   "execution_count": 9,
   "metadata": {},
   "outputs": [],
   "source": [
    "x_n = np.array([-1,2,-5,6,7,3,-2,-4,9,1,-3,8]) \n",
    "h_n = np.array([1,1,0]) \n",
    "N = 8  \n",
    "L = 6  \n",
    "M = len(h_n) "
   ]
  },
  {
   "cell_type": "code",
   "execution_count": 10,
   "metadata": {},
   "outputs": [
    {
     "name": "stdout",
     "output_type": "stream",
     "text": [
      "[-1.  1. -3.  1. 13. 10.  1. -6.  5. 10. -2.  5.  8.  0.]\n"
     ]
    }
   ],
   "source": [
    "y_n = custom_overlap_add(x_n, h_n, N)\n",
    "print(y_n)"
   ]
  },
  {
   "cell_type": "code",
   "execution_count": 11,
   "metadata": {},
   "outputs": [
    {
     "name": "stdout",
     "output_type": "stream",
     "text": [
      "[-1.  1. -3.  1. 13. 10.  1. -6.  5. 10. -2.  5.]\n"
     ]
    }
   ],
   "source": [
    "y_n = custom_overlap_save(x_n, h_n, N) #y[n]\n",
    "print(y_n)"
   ]
  }
 ],
 "metadata": {
  "kernelspec": {
   "display_name": "Python 3",
   "language": "python",
   "name": "python3"
  },
  "language_info": {
   "codemirror_mode": {
    "name": "ipython",
    "version": 3
   },
   "file_extension": ".py",
   "mimetype": "text/x-python",
   "name": "python",
   "nbconvert_exporter": "python",
   "pygments_lexer": "ipython3",
   "version": "3.11.2"
  }
 },
 "nbformat": 4,
 "nbformat_minor": 2
}
